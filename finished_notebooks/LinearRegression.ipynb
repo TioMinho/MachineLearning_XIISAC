{
 "cells": [
  {
   "cell_type": "markdown",
   "metadata": {},
   "source": [
    "# Regressão Linear Simples\n",
    "\n",
    "### Descrição:\n",
    "Nesse notebook iremos desenvolver e executar um simples algoritmo de Regressão Linear. Utilizaremos um modelo linear simples, como já explicado, e um dataset de dados artificialmente gerados (para facilitar a visualização do funcionamento do algoritmo.\n",
    "\n",
    "A Regressão Linear é um algoritmo de Machine Learning (dos mais simples) que se propõe a predizer valores em um espaço contínuo. O produto de tal algoritmo é justamente um conjunto de parâmetros que definem um Modelo que determinamos. A aplicação de valores diretamente neste modelo, utilizando os parâmetros que foram \"aprendidos\" no treinamento, constituem uma predição de dados realizadas a partir desse treinamento.\n",
    "\n",
    "<b> Obs.: </b> todas as matrizes/vetores utilizados na fundamentação teórica são consideradas como Vetores-Colunas. A implementação pode diferir um pouco dessa convenção.\n"
   ]
  },
  {
   "cell_type": "markdown",
   "metadata": {},
   "source": [
    "## Bibliotecas e Configurações"
   ]
  },
  {
   "cell_type": "code",
   "execution_count": null,
   "metadata": {
    "collapsed": true
   },
   "outputs": [],
   "source": [
    "# -*- coding: utf-8 -*-\n",
    "%matplotlib qt5\n",
    "\n",
    "# Libraries\n",
    "import numpy as np \n",
    "import matplotlib.pyplot as plt"
   ]
  },
  {
   "cell_type": "markdown",
   "metadata": {},
   "source": [
    "## Modelo Linear\n",
    "\n",
    "Na célula abaixo, iremos programar a função responsável por calcular e retornar uma aplicação do nosso modelo linear:\n",
    "\n",
    "$$ h(\\theta) = \\theta_{0}+\\theta_{1}X_{1} $$\n",
    "\n",
    "Perceba que, por simplificação e otimização, podemos representar essa operação matricialmente da forma:\n",
    "\n",
    "$$ h(\\theta) = \\begin{bmatrix} \\theta_{0} \\\\ \\theta_{1} \\end{bmatrix}^{T} \\times \\begin{bmatrix} 1 \\\\ X_{1} \\end{bmatrix} = \\begin{bmatrix} \\theta_{0} & \\theta_{1} \\end{bmatrix} \\times \\begin{bmatrix} 1 \\\\ X_{1} \\end{bmatrix}  = \\theta^{T}X $$"
   ]
  },
  {
   "cell_type": "code",
   "execution_count": null,
   "metadata": {
    "collapsed": true
   },
   "outputs": [],
   "source": [
    "# Definição da Função para o Modelo Linear\n",
    "def h_theta(x, theta):\n",
    "    ''' Apply the Linear Model for features X and parameters theta '''\n",
    "    return np.dot(np.transpose(theta), x)\n",
    "\n",
    "# Teste da Função: h([5;2]) = 5+2X\n",
    "testX = np.array([[1,1,1],\n",
    "                  [3,4,9]])\n",
    "\n",
    "testTheta = np.array([[5],\n",
    "                      [2]])\n",
    "\n",
    "print(\"Prediction:\", h_theta(testX, testTheta))"
   ]
  },
  {
   "cell_type": "markdown",
   "metadata": {},
   "source": [
    "## Função de Custo\n",
    "\n",
    "Na célula abaixo, definimos uma função que calcula e retorna o custo total das nossas predições, isto é, o cálculo do erro total do treinamento. A função que utilizaremos pode ser arbitrária (apenas nos permite ter uma melhor visualização do treinamento, mas não influencia o mesmo).\n",
    "\n",
    "Nesse algoritmo, utilizaremos a Soma dos Resíduos Quadráticos (um dos seus muitos nomes):\n",
    "\n",
    "$$ J(\\theta) = \\frac{1}{m} \\sum (h(\\theta) - y)^{2} = \\frac{1}{m} \\sum (Erro)^{2} $$"
   ]
  },
  {
   "cell_type": "code",
   "execution_count": null,
   "metadata": {
    "collapsed": true
   },
   "outputs": [],
   "source": [
    "# Definição da Função de Erro\n",
    "def errorFunction(errors):\n",
    "    ''' Calculate the Least Square Error '''\n",
    "    return (1 / np.size(errors)) * np.sum(errors ** 2) \n",
    "\n",
    "# Teste da Função\n",
    "errors = np.array([5., 4., 4., 3., 2.])\n",
    "print(\"Custo Total:\", errorFunction(errors))"
   ]
  },
  {
   "cell_type": "markdown",
   "metadata": {},
   "source": [
    "## Programa Principal (Regressão Linear)\n",
    "\n",
    "No programa principal, iremos programar a Regressão Linear propriamente dita.\n",
    "Dividimos o código em três partes:\n",
    "\n",
    "### Part 1: Data Pre-Processing\n",
    "\n",
    "Nesse trecho, iremos nos preocupar em carregar e organizar o dataset que utilizaremos no treinamento. É nesse momento, também, que iremos declarar e separar as variáveis que definem o Conjunto de Atributos, o Conjunto de Saída e os Parâmetros do Modelo, além dos Hiperparâmetros de Treinamento. Iremos seguir a convenção de considerar todos os exemplares como vetores-colunas. No entanto, o numpy não nos permite facilmente modificar essa informação para o Conjunto de Saída, e o mesmo continuará como vetor-linha (sem muito prejuízo). Iremos criar, também um vetor para armazenar o Histórico de Erros do treinamento (por motivos de visualização).\n",
    "\n",
    "Iremos utilizar o dataset <i>data1.txt</i> localizado na pasta <i>datasets/</i>. Teremos as seguintes matrizes:\n",
    "\n",
    "$$\n",
    "    X = \\begin{bmatrix} 1 & 1 & \\cdots & 1 \\\\  X_{1}^{(1)} & X_{1}^{(2)} & \\cdots & X_{1}^{(m)}  \\end{bmatrix};\\   \\theta = \\begin{bmatrix} \\theta_{0} \\\\ \\theta_{1}\\end{bmatrix};\\  Y = \\begin{bmatrix} Y^{(1)} & Y^{(2)} & \\cdots & Y^{(m)} \\end{bmatrix}\n",
    "$$\n",
    "\n",
    "### Part 2: Linear Regression Training\n",
    "\n",
    "Para cada época até a convergência (ou até atingir o limite máximo definido pelo Hiperparâmetro) iremos realizar o Treinamento da Regressão Linear. Os passos serão os seguintes:\n",
    "\n",
    "1. Calculamos o vetor de predição \"Y_pred\", como resultado da predição do Modelo para os parâmetros daquela época;\n",
    "2. Utilizando \"Y_pred\", calculamos os erros de acordo com o a matriz real \"Y\";\n",
    "3. Concatenamos o Custo Total do erro calculado no Histórico de Erros;\n",
    "4. Realizamos, para cada parâmetro, o Gradiente Descendente para estimar os novos valores dos parâmetros;\n",
    "5. Imprimimos os resultados do treino a cada 500 épocas;\n",
    "6. Verificamos uma possível convergência do treino, e paremos o mesmo caso seja verificado;\n",
    "\n",
    "### Part 3: Data Plotting and Training Results\n",
    "\n",
    "Ao fim do treinamento, iremos plotar duas figuras para avaliar o resultado final do nosso algoritmo. A <b>Figura 1</b> irá apenas exibir os atributos do Dataset. A <b>Figura 2</b> irá exibir a função estimada pelo nosso Modelo Linear, além do Histórico de Erros dado as épocas até convergência."
   ]
  },
  {
   "cell_type": "code",
   "execution_count": null,
   "metadata": {
    "collapsed": true,
    "scrolled": true
   },
   "outputs": [],
   "source": [
    "# Main Function\n",
    "if __name__=='__main__':\n",
    "    \n",
    "    ###############################\n",
    "    # Part 1: Data Pre-Processing #\n",
    "    ###############################\n",
    "    # Loads the data\n",
    "    data = np.loadtxt(\"datasets/data1.txt\")\n",
    "    \n",
    "    n_examples = np.size(data,0)\n",
    "    n_features = np.size(data,1)\n",
    "    \n",
    "    # Define the model parameters\n",
    "    x = np.array([np.ones(n_examples), data[:, 0]])\n",
    "    y = data[:, 1]\n",
    "    theta = np.zeros([np.size(x, 0), 1])\n",
    "    \n",
    "    # Defines the hyperparameters and training measurements\n",
    "    alfa = 0.001\n",
    "    max_epochs = 500000\n",
    "    \n",
    "    error_hist = np.zeros([max_epochs])\n",
    "    epsilon = 0.001\n",
    "    \n",
    "    ######################################\n",
    "    # Part 2: Linear Regression Training #\n",
    "    ######################################\n",
    "    for epochs in range(max_epochs):\n",
    "        # Calculate the error vector from the current Model\n",
    "        y_pred = h_theta(x, theta)\n",
    "        error = y_pred - y\n",
    "\n",
    "        # Append new Least Square Error to History\n",
    "        error_hist[epochs] = errorFunction(error)\n",
    "\n",
    "        # Perform Gradient Descent\n",
    "        for j in range(n_features):\n",
    "            theta[j] = theta[j] - (alfa/n_examples) * np.sum(error * x[j,:])\n",
    "\n",
    "        # Prints training status at each 100 epochs\n",
    "        if(epochs % 500 == 0):\n",
    "            print(\"###### Epoch\", epochs, \"######\")\n",
    "            print(\"Error:\", error_hist[epochs])\n",
    "            print(\"Thetas:\\n\", theta)\n",
    "            print(\"\")\n",
    "        \n",
    "        # Evaluate convergence and stops training if so\n",
    "        if(abs(error_hist[epochs] - error_hist[epochs-50]) <= epsilon):\n",
    "            print(\"Gradient Converged!!!\\nStopping at epoch\", epochs)\n",
    "            print(\"###### Epoch\", epochs, \"######\")\n",
    "            print(\"Error:\", error_hist[epochs])\n",
    "            print(\"Thetas:\\n\", theta)\n",
    "            print(\"\")\n",
    "            break\n",
    "            \n",
    "    #############################################\n",
    "    # Part 3: Data Plotting and Training Result #\n",
    "    #############################################\n",
    "    # First Figure: Dataset plotting\n",
    "    plt.figure(1)\n",
    "    \n",
    "    plt.title(\"Artificial Generated Data with Noise\\n $f(x)=-13.15648 + 1.4928 * X$\")\n",
    "    plt.xlabel(\"X\")\n",
    "    plt.ylabel(\"f(X)\")\n",
    "    \n",
    "    plt.grid()\n",
    "    plt.plot(x[1,:], y, 'rx')\n",
    "    \n",
    "    plt.show()\n",
    "    \n",
    "    # Second Figure: Training results\n",
    "    plt.figure(2)\n",
    "    \n",
    "    plt.subplot(1,2,1)\n",
    "    plt.title(\"Artificial Generated Data with Noise\\n $f(x)=-13.15648 + 1.4928 * X$\")\n",
    "    plt.xlabel(\"X\")\n",
    "    plt.ylabel(\"f(X)\")\n",
    "    \n",
    "    plt.grid()\n",
    "    plt.plot(x[1,:], y, 'rx', x[1,:], h_theta(x, theta)[0,:], 'k-')\n",
    "    \n",
    "    plt.subplot(1,2,2)\n",
    "    plt.title(\"Error History\")\n",
    "    plt.xlabel(\"Epochs\")\n",
    "    plt.ylabel(\"Least Square Error\")\n",
    "    \n",
    "    plt.grid()\n",
    "    plt.plot(error_hist[:epochs], \"g-\")\n",
    "    \n",
    "    plt.show()\n",
    "    \n",
    "#__"
   ]
  },
  {
   "cell_type": "code",
   "execution_count": null,
   "metadata": {
    "collapsed": true
   },
   "outputs": [],
   "source": []
  }
 ],
 "metadata": {
  "anaconda-cloud": {},
  "kernelspec": {
   "display_name": "Python [default]",
   "language": "python",
   "name": "python3"
  },
  "language_info": {
   "codemirror_mode": {
    "name": "ipython",
    "version": 3
   },
   "file_extension": ".py",
   "mimetype": "text/x-python",
   "name": "python",
   "nbconvert_exporter": "python",
   "pygments_lexer": "ipython3",
   "version": "3.5.2"
  }
 },
 "nbformat": 4,
 "nbformat_minor": 1
}
